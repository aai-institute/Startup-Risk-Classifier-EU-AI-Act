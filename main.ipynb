{
 "cells": [
  {
   "cell_type": "code",
   "execution_count": 41,
   "metadata": {},
   "outputs": [
    {
     "name": "stdout",
     "output_type": "stream",
     "text": [
      "https://findiq.de/loesung/vorteile https://findiq.de/loesung/vorteile https://findiq.de/loesung/vorteile https://findiq.de/loesung/vorteile https://findiq.de/loesung/vorteile https://findiq.de/loesung/vorteile https://findiq.de/loesung/vorteile https://findiq.de/loesung/vorteile https://findiq.de/loesung/vorteile https://findiq.de/loesung/vorteile https://findiq.de/loesung/vorteile https://findiq.de/loesung/vorteile https://findiq.de/loesung/vorteile https://findiq.de/loesung/vorteile https://findiq.de/loesung/vorteile https://findiq.de/loesung/vorteile https://findiq.de/loesung/vorteile https://findiq.de/loesung/vorteile https://findiq.de/loesung/vorteile https://findiq.de/loesung/vorteile https://findiq.de/loesung/vorteile https://findiq.de/loesung/vorteile https://findiq.de/loesung/vorteile https://findiq.de/loesung/vorteile https://findiq.de/loesung/vorteile https://findiq.de/loesung/vorteile https://findiq.de/loesung/vorteile https://findiq.de/loesung/vorteile https://findiq.de/loesung/vorteile https://findiq.de/loesung/vorteile https://findiq.de/loesung/vorteile https://findiq.de/loesung/vorteile https://findiq.de/loesung/vorteile https://findiq.de/loesung/vorteile https://findiq.de/loesung/vorteile https://findiq.de/loesung/vorteile https://findiq.de/loesung/vorteile https://findiq.de/loesung/vorteile https://findiq.de/loesung/vorteile https://findiq.de/loesung/vorteile https://findiq.de/loesung/vorteile https://findiq.de/loesung/vorteile https://findiq.de/loesung/vorteile https://findiq.de/loesung/vorteile https://findiq.de/loesung/vorteile https://findiq.de/loesung/vorteile https://findiq.de/loesung/vorteile https://findiq.de/loesung/vorteile https://findiq.de/loesung/vorteile https://findiq.de/loesung/vorteile https://findiq.de/loesung/vorteile https://findiq.de/loesung/vorteile https://findiq.de/loesung/vorteile https://findiq.de/loesung/vorteile https://findiq.de/loesung/vorteile https://findiq.de/loesung/vorteile https://findiq.de/loesung/vorteile https://findiq.de/loesung/vorteile https://findiq.de/loesung/vorteile https://findiq.de/loesung/vorteile https://findiq.de/loesung/vorteile https://findiq.de/loesung/vorteile https://findiq.de/loesung/vorteile https://findiq.de/loesung/vorteile https://findiq.de/loesung/vorteile https://findiq.de/loesung/vorteile https://findiq.de/loesung/vorteile https://findiq.de/loesung/vorteile https://findiq.de/loesung/vorteile https://findiq.de/loesung/vorteile https://findiq.de/loesung/vorteile https://findiq.de/loesung/vorteile https://findiq.de/loesung/vorteile https://findiq.de/loesung/vorteile https://findiq.de/loesung/vorteile https://findiq.de/loesung/vorteile https://findiq.de/loesung/vorteile https://findiq.de/loesung/vorteile https://findiq.de/loesung/vorteile https://findiq.de/loesung/vorteile https://findiq.de/loesung/vorteile https://findiq.de/loesung/vorteile https://findiq.de/loesung/vorteile https://findiq.de/loesung/vorteile https://findiq.de/loesung/vorteile https://findiq.de/loesung/vorteile https://findiq.de/loesung/vorteile https://findiq.de/loesung/vorteile https://findiq.de/loesung/vorteile https://findiq.de/loesung/vorteile https://findiq.de/loesung/vorteile https://findiq.de/loesung/vorteile https://findiq.de/loesung/vorteile https://findiq.de/loesung/vorteile https://findiq.de/loesung/vorteile https://findiq.de/loesung/vorteile https://findiq.de/loesung/vorteile https://findiq.de/loesung/vorteile https://findiq.de/loesung/vorteile https://findiq.de/loesung/vorteile\n",
      "Number of tokens: 1200\n"
     ]
    }
   ],
   "source": [
    "# Install tiktoken if not already installed: pip install tiktoken\n",
    "import tiktoken\n",
    "\n",
    "def count_tokens(text, model=\"gpt-4o\"):\n",
    "    # Initialize the tokenizer for the model\n",
    "    encoding = tiktoken.encoding_for_model(model)\n",
    "    # Encode the text into tokens\n",
    "    tokens = encoding.encode(text)\n",
    "    # Return the number of tokens\n",
    "    return len(tokens)\n",
    "\n",
    "# Example usage:\n",
    "text = \"https://findiq.de/loesung/vorteile\"\n",
    "text = \" \".join([text] * 100)\n",
    "\n",
    "# text = \" \".join(['https://findiq.de/', 'https://findiq.de/loesung/vorteile', 'https://findiq.de/loesung/leistungen', 'https://findiq.de/loesung/faq', 'https://findiq.de/referenzen/referenzen', 'https://findiq.de/ueber-uns', 'https://findiq.de/news-events', 'https://findiq.de/jobs', 'https://findiq.de/kontakt', 'https://findiq.de/en/', 'https://findiq.de/newsletter', 'https://findiq.de/impressum', 'https://findiq.de/datenschutz', 'https://findiq.de/agb'])\n",
    "print(text)\n",
    "\n",
    "model_name = \"gpt-4o\"\n",
    "token_count = count_tokens(text, model=model_name)\n",
    "print(f\"Number of tokens: {token_count}\")"
   ]
  },
  {
   "cell_type": "code",
   "execution_count": 9,
   "metadata": {},
   "outputs": [
    {
     "name": "stdout",
     "output_type": "stream",
     "text": [
      "Approximate characters for 4 tokens: 16\n"
     ]
    }
   ],
   "source": [
    "def tokens_to_chars(num_tokens, avg_chars_per_token=4):\n",
    "    return int(num_tokens * avg_chars_per_token)\n",
    "\n",
    "num_tokens = 4\n",
    "chars = tokens_to_chars(num_tokens)\n",
    "print(f\"Approximate characters for {num_tokens} tokens: {chars}\")\n"
   ]
  },
  {
   "cell_type": "code",
   "execution_count": 18,
   "metadata": {},
   "outputs": [
    {
     "name": "stdout",
     "output_type": "stream",
     "text": [
      "Exact characters for 50 tokens: 258\n"
     ]
    }
   ],
   "source": [
    "def tokens_to_characters_exact(num_tokens, model=\"gpt-4o\"):\n",
    "    # Initialize the tokenizer for the model\n",
    "    encoding = tiktoken.encoding_for_model(model)\n",
    "    \n",
    "    # Generate a dummy text of sufficient length to extract tokens\n",
    "    dummy_text = \"This is an example text to calculate the number of tokens.This is an example text to calculate the number of tokens.This is an example text to calculate the number of tokens.This is an example text to calculate the number of tokens.This is an example text to calculate the number of tokens.This is an example text to calculate the number of tokens.This is an example text to calculate the number of tokens.This is an example text to calculate the number of tokens.This is an example text to calculate the number of tokens.\"\n",
    "    \n",
    "    # Encode the dummy text into tokens\n",
    "    token_ids = encoding.encode(dummy_text)\n",
    "    \n",
    "    # Ensure we have enough tokens for the given number\n",
    "    if len(token_ids) < num_tokens:\n",
    "        raise ValueError(\"Not enough tokens in the dummy text to fulfill the request.\")\n",
    "    \n",
    "    # Decode the specified number of tokens back into text\n",
    "    decoded_text = encoding.decode(token_ids[:num_tokens])\n",
    "    \n",
    "    # Return the length of the decoded text in characters\n",
    "    return len(decoded_text)\n",
    "\n",
    "# Example usage\n",
    "num_tokens = 50\n",
    "exact_chars = tokens_to_characters_exact(num_tokens)\n",
    "print(f\"Exact characters for {num_tokens} tokens: {exact_chars}\")"
   ]
  },
  {
   "cell_type": "code",
   "execution_count": 46,
   "metadata": {},
   "outputs": [
    {
     "name": "stdout",
     "output_type": "stream",
     "text": [
      "The following is the content of the homepage of a company's website whose supposed name is \"Findiq\", but confirm this from the homepage content. \n",
      "\n",
      "Your task is to generate all the AI use cases this company is implementing. You can also use your own knowledge to help with this task. Do not guess any use case, only find the ones that the company is actually implementing. If the content of this webpage is just a page error, then output 'Page Error' only. \n",
      "\n",
      "Content of the homepage: This is some content\n"
     ]
    }
   ],
   "source": [
    "def prompts(startupName, raw_text):\n",
    "    startup_summary = f\"The following is the content of the homepage of a company's website whose supposed name is \\\"{startupName}\\\", but confirm this from the homepage content. \\n\\nYour task is to generate all the AI use cases this company is implementing. You can also use your own knowledge to help with this task. Do not guess any use case, only find the ones that the company is actually implementing. If the content of this webpage is just a page error, then output 'Page Error' only. \\n\\nContent of the homepage: {raw_text}\"\n",
    "\n",
    "    return startup_summary\n",
    "\n",
    "print(prompts(\"Findiq\", \"This is some content\"))"
   ]
  },
  {
   "cell_type": "code",
   "execution_count": 47,
   "metadata": {},
   "outputs": [
    {
     "name": "stdout",
     "output_type": "stream",
     "text": [
      "Collecting openpyxl\n",
      "  Obtaining dependency information for openpyxl from https://files.pythonhosted.org/packages/c0/da/977ded879c29cbd04de313843e76868e6e13408a94ed6b987245dc7c8506/openpyxl-3.1.5-py2.py3-none-any.whl.metadata\n",
      "  Using cached openpyxl-3.1.5-py2.py3-none-any.whl.metadata (2.5 kB)\n",
      "Collecting et-xmlfile (from openpyxl)\n",
      "  Obtaining dependency information for et-xmlfile from https://files.pythonhosted.org/packages/c1/8b/5fe2cc11fee489817272089c4203e679c63b570a5aaeb18d852ae3cbba6a/et_xmlfile-2.0.0-py3-none-any.whl.metadata\n",
      "  Using cached et_xmlfile-2.0.0-py3-none-any.whl.metadata (2.7 kB)\n",
      "Using cached openpyxl-3.1.5-py2.py3-none-any.whl (250 kB)\n",
      "Using cached et_xmlfile-2.0.0-py3-none-any.whl (18 kB)\n",
      "Installing collected packages: et-xmlfile, openpyxl\n",
      "Successfully installed et-xmlfile-2.0.0 openpyxl-3.1.5\n",
      "Note: you may need to restart the kernel to use updated packages.\n"
     ]
    },
    {
     "name": "stderr",
     "output_type": "stream",
     "text": [
      "\n",
      "[notice] A new release of pip is available: 23.2.1 -> 24.3.1\n",
      "[notice] To update, run: python.exe -m pip install --upgrade pip\n"
     ]
    }
   ],
   "source": [
    "%pip install openpyxl"
   ]
  },
  {
   "cell_type": "code",
   "execution_count": null,
   "metadata": {},
   "outputs": [],
   "source": []
  }
 ],
 "metadata": {
  "kernelspec": {
   "display_name": "custom-env",
   "language": "python",
   "name": "python3"
  },
  "language_info": {
   "codemirror_mode": {
    "name": "ipython",
    "version": 3
   },
   "file_extension": ".py",
   "mimetype": "text/x-python",
   "name": "python",
   "nbconvert_exporter": "python",
   "pygments_lexer": "ipython3",
   "version": "3.12.0"
  }
 },
 "nbformat": 4,
 "nbformat_minor": 2
}
