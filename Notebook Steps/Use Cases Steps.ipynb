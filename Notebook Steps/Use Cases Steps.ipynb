{
 "cells": [
  {
   "cell_type": "code",
   "execution_count": null,
   "metadata": {},
   "outputs": [],
   "source": []
  },
  {
   "cell_type": "markdown",
   "metadata": {},
   "source": [
    "Notebook Step 3 - Save to JSON the use cases"
   ]
  },
  {
   "cell_type": "code",
   "execution_count": 11,
   "metadata": {},
   "outputs": [
    {
     "name": "stdout",
     "output_type": "stream",
     "text": [
      "\n",
      "JSON file 'use_cases.json' created successfully.\n",
      "Extracted use cases for 643 companies.\n",
      "Skipped 0 rows due to empty use case column.\n",
      "Skipped 0 rows due to unrecognized formatting.\n",
      "\n"
     ]
    }
   ],
   "source": [
    "import pandas as pd\n",
    "import json\n",
    "import re\n",
    "import os\n",
    "\n",
    "file_path = os.path.join(\"..\", \"datasets/Use Cases/3. All GPT Formatted Final Use Cases.xlsx\")\n",
    "df = pd.read_excel(file_path)\n",
    "\n",
    "\n",
    "# Column indices\n",
    "company_name_col = df.columns[0]  # Column A\n",
    "use_case_text_col = df.columns[4]  # Column E\n",
    "\n",
    "# Initialize containers\n",
    "companies = []\n",
    "skipped_empty = []\n",
    "skipped_no_match = []\n",
    "\n",
    "# Iterate over rows\n",
    "for idx, row in df.iterrows():\n",
    "    excel_row = idx + 2  # Account for header\n",
    "    company_name = str(row[company_name_col]).strip()\n",
    "    use_case_text = row[use_case_text_col]\n",
    "\n",
    "    # Skip if use case cell is empty or NaN\n",
    "    if pd.isna(use_case_text) or not str(use_case_text).strip():\n",
    "        skipped_empty.append((excel_row, company_name))\n",
    "        continue\n",
    "\n",
    "    # Extract use cases\n",
    "    use_cases = re.findall(\n",
    "        r\"AI Use Case:\\s*(.*?)\\s*Use Case Description:\\s*(.*?)(?=AI Use Case:|$)\",\n",
    "        str(use_case_text),\n",
    "        re.DOTALL\n",
    "    )\n",
    "\n",
    "    if not use_cases:\n",
    "        skipped_no_match.append((excel_row, company_name))\n",
    "        continue\n",
    "\n",
    "    # Build structured company data\n",
    "    company_data = {\n",
    "        \"company_name\": company_name,\n",
    "        \"use_cases\": [\n",
    "            {\n",
    "                \"use_case_name\": name.strip(),\n",
    "                \"use_case_description\": description.strip()\n",
    "            }\n",
    "            for name, description in use_cases\n",
    "        ]\n",
    "    }\n",
    "\n",
    "    companies.append(company_data)\n",
    "\n",
    "# Save to JSON\n",
    "with open(\"use_cases.json\", \"w\", encoding=\"utf-8\") as f:\n",
    "    json.dump({\"companies\": companies}, f, indent=4, ensure_ascii=False)\n",
    "\n",
    "print(f\"\\nJSON file 'use_cases.json' created successfully.\")\n",
    "print(f\"Extracted use cases for {len(companies)} companies.\")\n",
    "print(f\"Skipped {len(skipped_empty)} rows due to empty use case column.\")\n",
    "print(f\"Skipped {len(skipped_no_match)} rows due to unrecognized formatting.\\n\")\n",
    "\n",
    "if skipped_empty or skipped_no_match:\n",
    "    print(\"Skipped Rows:\")\n",
    "    for row_num, company in skipped_empty:\n",
    "        print(f\"Row {row_num} (EMPTY) - {company}\")\n",
    "    for row_num, company in skipped_no_match:\n",
    "        print(f\"Row {row_num} (FORMAT MISMATCH) - {company}\")"
   ]
  }
 ],
 "metadata": {
  "kernelspec": {
   "display_name": "new-env",
   "language": "python",
   "name": "python3"
  },
  "language_info": {
   "codemirror_mode": {
    "name": "ipython",
    "version": 3
   },
   "file_extension": ".py",
   "mimetype": "text/x-python",
   "name": "python",
   "nbconvert_exporter": "python",
   "pygments_lexer": "ipython3",
   "version": "3.12.0"
  }
 },
 "nbformat": 4,
 "nbformat_minor": 2
}
